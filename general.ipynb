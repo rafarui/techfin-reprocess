{
 "cells": [
  {
   "cell_type": "code",
   "execution_count": 6,
   "metadata": {},
   "outputs": [
    {
     "output_type": "stream",
     "name": "stdout",
     "text": [
      "2.43.0\n"
     ]
    }
   ],
   "source": [
    "import sys\n",
    "import json\n",
    "from pycarol.auth.PwdAuth import PwdAuth\n",
    "from pycarol import Carol, ApiKeyAuth, Subscription\n",
    "from pycarol.staging import Staging\n",
    "from pycarol.data_models import DataModel\n",
    "from pycarol.tenant import Tenant\n",
    "from pycarol import Storage, Connectors\n",
    "import pandas as pd\n",
    "import os\n",
    "from collections import defaultdict\n",
    "from dotenv import load_dotenv\n",
    "load_dotenv('.env', override=True)\n",
    "import time\n",
    "from pycarol.apps import Apps\n",
    "import pycarol\n",
    "from functools import reduce\n",
    "\n",
    "pd.set_option('display.max_rows', 500)\n",
    "pd.set_option('display.max_columns', 500)\n",
    "pd.set_option('display.min_rows', 100)\n",
    "\n",
    "\n",
    "domain = 'protheusdev'\n",
    "env = 'carol.ai'\n",
    "org = 'totvstechfindev'\n",
    "\n",
    "email = os.environ['CAROLUSER']\n",
    "password = os.environ['CAROLPWD']\n",
    "\n",
    "login = Carol(domain, 'clockinapp', auth=PwdAuth(email, password), environment=env, organization=org, )\n",
    "carol_app = Apps(login).all()\n",
    "if carol_app:\n",
    "    carol_app, _ = carol_app.popitem()\n",
    "else:\n",
    "    print(\"no carol app\")\n",
    "    carol_app = \"aaa\"\n",
    "login.app_name = carol_app\n",
    "\n",
    "stag  = Staging(login)\n",
    "\n",
    "print(pycarol.__version__)\n"
   ]
  },
  {
   "cell_type": "code",
   "execution_count": 8,
   "metadata": {},
   "outputs": [
    {
     "output_type": "stream",
     "name": "stdout",
     "text": [
      "[['Código T']]\n"
     ]
    }
   ],
   "source": [
    "import gspread\n",
    "\n",
    "gc = gspread.service_account(filename='cred.json')\n",
    "\n",
    "sh = gc.open(\"status_techfin_reprocess\")\n",
    "\n",
    "print(sh.sheet1.get('A1'))"
   ]
  },
  {
   "cell_type": "code",
   "execution_count": null,
   "metadata": {},
   "outputs": [],
   "source": [
    "from functions import carol_task\n",
    "import time\n",
    "while True:\n",
    "    pross_tasks = carol_task.find_task_types(login)\n",
    "    pross_task = [i['mdmId'] for i in pross_tasks]\n",
    "    if pross_task:\n",
    "        carol_task.cancel_tasks(login, pross_task)\n",
    "    time.sleep(4)"
   ]
  },
  {
   "cell_type": "code",
   "execution_count": 11,
   "metadata": {},
   "outputs": [],
   "source": [
    "def cancel(login):\n",
    "    while True:\n",
    "        pross_tasks = carol_task.find_task_types(login)\n",
    "        pross_task = [i['mdmId'] for i in pross_tasks]\n",
    "        if pross_task:\n",
    "            carol_task.cancel_tasks(login, pross_task)\n",
    "        time.sleep(4)"
   ]
  },
  {
   "cell_type": "code",
   "execution_count": 14,
   "metadata": {},
   "outputs": [],
   "source": [
    "import multiprocessing\n",
    "proc = multiprocessing.Process(target=cancel, args=(login,))\n",
    "\n",
    "proc.start()"
   ]
  },
  {
   "cell_type": "code",
   "execution_count": 3,
   "metadata": {},
   "outputs": [],
   "source": [
    "from functions import custom_pipeline\n",
    "dag = custom_pipeline.get_dag()"
   ]
  },
  {
   "cell_type": "code",
   "execution_count": 7,
   "metadata": {},
   "outputs": [],
   "source": [
    "dag = list(reduce(set.union, custom_pipeline.get_dag()))"
   ]
  },
  {
   "cell_type": "code",
   "execution_count": 9,
   "metadata": {},
   "outputs": [],
   "source": [
    "dms = [i.replace('DM_', '') for i in dag if i.startswith('DM_')]"
   ]
  },
  {
   "cell_type": "code",
   "execution_count": 14,
   "metadata": {},
   "outputs": [
    {
     "output_type": "execute_result",
     "data": {
      "text/plain": [
       "['apinvoiceaccounting',\n",
       " 'apinvoicepayments',\n",
       " 'apinvoice',\n",
       " 'arinvoice',\n",
       " 'arinvoiceinstallment',\n",
       " 'arinvoicebra',\n",
       " 'arinvoiceaccounting',\n",
       " 'apinvoiceinstallment',\n",
       " 'arinvoicepayments',\n",
       " 'apinvoicebra',\n",
       " 'arinvoiceorigin',\n",
       " 'arinvoicepartner']"
      ]
     },
     "metadata": {},
     "execution_count": 14
    }
   ],
   "source": [
    "dms"
   ]
  },
  {
   "source": [
    "# Terminate the process\n",
    "proc.terminate()  # sends a SIGTERM\n",
    "proc.exitcode"
   ],
   "cell_type": "markdown",
   "metadata": {}
  },
  {
   "cell_type": "code",
   "execution_count": 3,
   "metadata": {},
   "outputs": [],
   "source": [
    "org = 'totvstechfin'\n",
    "app_name = \"techfinplatform\"\n",
    "app_version = '0.0.65'\n",
    "connector_name = 'protheus_carol'\n",
    "connector_group = 'protheus'\n",
    "\n",
    "consolidate_list = ['se1', 'se2', ]"
   ]
  },
  {
   "cell_type": "code",
   "execution_count": 26,
   "metadata": {},
   "outputs": [],
   "source": [
    "from functions import sheet_utils, carol_login, carol_apps, carol_task, custom_pipeline, techfin_task\n",
    "from functools import reduce"
   ]
  },
  {
   "cell_type": "code",
   "execution_count": 5,
   "metadata": {},
   "outputs": [],
   "source": [
    "dag = custom_pipeline.get_dag()\n",
    "dag = list(reduce(set.union, custom_pipeline.get_dag()))\n",
    "dms = [i.replace('DM_', '') for i in dag if i.startswith('DM_')]\n",
    "staging_list = [i for i in dag if not i.startswith('DM_')]"
   ]
  },
  {
   "cell_type": "code",
   "execution_count": 6,
   "metadata": {},
   "outputs": [],
   "source": [
    "import logging\n",
    "logger = logging.getLogger('app')"
   ]
  },
  {
   "cell_type": "code",
   "execution_count": 15,
   "metadata": {},
   "outputs": [
    {
     "name": "stdout",
     "output_type": "stream",
     "text": [
      "Deleted:  {'count': 2067}\n",
      "Deleted:  {'count': 0}\n",
      "Deleted:  {'count': 895}\n",
      "Deleted:  {'count': 0}\n",
      "Deleted:  {'count': 663}\n",
      "Deleted:  {'count': 0}\n",
      "Deleted:  {'count': 2165}\n",
      "Deleted:  {'count': 15}\n",
      "Deleted:  {'count': 826}\n",
      "Deleted:  {'count': 0}\n",
      "Deleted:  {'count': 1}\n",
      "Deleted:  {'count': 0}\n"
     ]
    }
   ],
   "source": [
    "task_list = carol_task.par_delete_golden(login, dm_list=dms, n_jobs=1)"
   ]
  },
  {
   "cell_type": "code",
   "execution_count": null,
   "metadata": {},
   "outputs": [],
   "source": [
    "st = carol_task.get_all_stagings(login, connector_name=connector_name)\n",
    "st = [i for i in st if i.startswith('se1_') or i.startswith('se2_')]"
   ]
  },
  {
   "cell_type": "code",
   "execution_count": 7,
   "metadata": {},
   "outputs": [
    {
     "data": {
      "text/plain": [
       "['se1_acresc',\n",
       " 'se1_decresc',\n",
       " 'se1_installments',\n",
       " 'se1_invoice',\n",
       " 'se1_payments',\n",
       " 'se1_payments_abatimentos',\n",
       " 'se2_acresc',\n",
       " 'se2_decresc',\n",
       " 'se2_installments',\n",
       " 'se2_invoice',\n",
       " 'se2_payments',\n",
       " 'se2_payments_abatimentos']"
      ]
     },
     "execution_count": 7,
     "metadata": {},
     "output_type": "execute_result"
    }
   ],
   "source": [
    "st"
   ]
  },
  {
   "cell_type": "code",
   "execution_count": 8,
   "metadata": {},
   "outputs": [],
   "source": [
    "task_list = carol_task.par_delete_staging(login, staging_list=st, connector_name=connector_name, n_jobs=1)"
   ]
  },
  {
   "cell_type": "code",
   "execution_count": 10,
   "metadata": {},
   "outputs": [
    {
     "data": {
      "text/plain": [
       "['794dc87001094cee91bcd7b9dec794c8',\n",
       " '4758aa8e39074b7090c52bb461fb7a9b',\n",
       " '6b4697a290274107bcc84137e0233e3b',\n",
       " '0b7ec9e7236749b7a0ccd390ea2feef7',\n",
       " '363328bdcf3442f8b122d891798d0390',\n",
       " 'd53214c78ea9473481e9906781bb513d',\n",
       " '8e0abd2751f34d97a4b220e57063732f',\n",
       " '8e5977a89dba425caa3d4739771d1b09',\n",
       " '9cc9dbc90f4048eb8fb058e46f4d48de',\n",
       " 'b243352d22f14f16a847e1d8a2957324',\n",
       " 'd26a1d17e8644c0492273147e9a45402',\n",
       " '8564ce2d5826414597813d8fd5dbd900']"
      ]
     },
     "execution_count": 10,
     "metadata": {},
     "output_type": "execute_result"
    }
   ],
   "source": [
    "task_list"
   ]
  },
  {
   "cell_type": "code",
   "execution_count": 18,
   "metadata": {},
   "outputs": [],
   "source": [
    "connector_name='protheus_carol'\n",
    "conn_stats = Connectors(login).stats(connector_name=connector_name)\n",
    "st = [i for i in list(conn_stats.values())[0]]\n",
    "st = sorted(st)"
   ]
  },
  {
   "cell_type": "code",
   "execution_count": 28,
   "metadata": {},
   "outputs": [
    {
     "output_type": "execute_result",
     "data": {
      "text/plain": [
       "['se2_acresc',\n",
       " 'se2_decresc',\n",
       " 'se2_installments',\n",
       " 'se2_invoice',\n",
       " 'se2_payments',\n",
       " 'se2_payments_abatimentos']"
      ]
     },
     "metadata": {},
     "execution_count": 28
    }
   ],
   "source": [
    "[i for i in st if (i.startswith('se2_')  )]"
   ]
  },
  {
   "cell_type": "code",
   "execution_count": 29,
   "metadata": {},
   "outputs": [
    {
     "output_type": "execute_result",
     "data": {
      "text/plain": [
       "['sf1_consulta',\n",
       " 'sf1_invoicebra',\n",
       " 'sf2_consulta',\n",
       " 'sf2_invoicebra',\n",
       " 'sd1_consulta',\n",
       " 'sd1_dados',\n",
       " 'sd1_devolution',\n",
       " 'sd1_else',\n",
       " 'se1_installments',\n",
       " 'se1_invoice',\n",
       " 'se1_payments',\n",
       " 'se1_payments_abatimentos',\n",
       " 'se2_installments',\n",
       " 'se2_invoice',\n",
       " 'se2_payments',\n",
       " 'se2_payments_abatimentos']"
      ]
     },
     "metadata": {},
     "execution_count": 29
    }
   ],
   "source": [
    "['sf1_consulta', 'sf1_invoicebra', 'sf2_consulta', 'sf2_invoicebra'] + \\\n",
    "              ['sd1_consulta', 'sd1_dados', 'sd1_devolution', 'sd1_else'] + \\\n",
    "                [\n",
    "                'se1_installments',\n",
    "                'se1_invoice',\n",
    "                'se1_payments',\n",
    "                'se1_payments_abatimentos'] + [\n",
    " 'se2_installments',\n",
    " 'se2_invoice',\n",
    " 'se2_payments',\n",
    " 'se2_payments_abatimentos']"
   ]
  },
  {
   "cell_type": "code",
   "execution_count": 16,
   "metadata": {},
   "outputs": [],
   "source": [
    "from pycarol import CDSStaging"
   ]
  },
  {
   "cell_type": "code",
   "execution_count": 84,
   "metadata": {},
   "outputs": [],
   "source": [
    "res = {}\n",
    "for staging in sts:\n",
    "    key = staging+'_'+field\n",
    "    mapping_id = conn.get_dm_mappings(connector_name='protheus_carol', staging_name=staging, )[0]['mdmId']\n",
    "    mappings_to_get = stag.get_mapping_snapshot(connector_id=connector_id, mapping_id=mapping_id, )\n",
    "    check = [i for i in mappings_to_get.get(None)['fieldMappings'] if i['targetFieldName']==field]\n",
    "    if check: \n",
    "        for sub_mapping in check:\n",
    "            if len([i for i in find_keys(sub_mapping, 'mdmName') if i=='MD5_HASH'])==0:\n",
    "                continue\n",
    "            else:\n",
    "                sub_mapping = sub_mapping['fieldCleanseRules']\n",
    "            #sanity_check (i dont know if this covvers nested functions)\n",
    "            assert(len([i for i in find_keys(sub_mapping, 'mdmName') if i=='MD5_HASH'])==1)\n",
    "            unest_func = list(chain(*(list(find_keys(sub_mapping, 'actions'))\n",
    "                                                    + list(find_keys(sub_mapping, 'falseActions'))\n",
    "                                                    + [sub_mapping, ])))\n",
    "            res[key] = [i['parameterValues'] for i in unest_func if i['fieldFunction']['mdmName']=='MD5_HASH']\n",
    "    else:\n",
    "        res[key] = None"
   ]
  }
 ],
 "metadata": {
  "kernelspec": {
   "display_name": "Python 3",
   "language": "python",
   "name": "python3"
  },
  "language_info": {
   "codemirror_mode": {
    "name": "ipython",
    "version": 3
   },
   "file_extension": ".py",
   "mimetype": "text/x-python",
   "name": "python",
   "nbconvert_exporter": "python",
   "pygments_lexer": "ipython3",
   "version": "3.8.5-final"
  }
 },
 "nbformat": 4,
 "nbformat_minor": 4
}